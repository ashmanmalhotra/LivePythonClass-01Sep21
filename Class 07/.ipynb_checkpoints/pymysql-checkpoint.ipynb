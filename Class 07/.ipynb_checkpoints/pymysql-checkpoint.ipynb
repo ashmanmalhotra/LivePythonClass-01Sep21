{
 "cells": [
  {
   "cell_type": "markdown",
   "id": "20aa2b10",
   "metadata": {},
   "source": [
    "```python\n",
    "pip install pymysql\n",
    "conda install pymysql\n",
    "```"
   ]
  },
  {
   "cell_type": "markdown",
   "id": "87b5cd07",
   "metadata": {},
   "source": [
    "```\n",
    "1. How to connect MySQL Server\n",
    "2. How to connect to existing Database\n",
    "3. Showing the List of all Database inside the Database Server\n",
    "4. Create Database\n",
    "5. Create Table\n",
    "6. Inserting Data to the Table\n",
    "```"
   ]
  },
  {
   "cell_type": "code",
   "execution_count": 2,
   "id": "af134544",
   "metadata": {
    "scrolled": true
   },
   "outputs": [
    {
     "name": "stdout",
     "output_type": "stream",
     "text": [
      "INSERT INTO STUDENTS (id, name, email, city, stream, fee) VALUES ('', 'Simran Kaur', 'simran@gmail.com', 'Gurgaon', 'BTech IT', 55000)\n"
     ]
    }
   ],
   "source": [
    "name, email, city, stream, fee = \"Simran Kaur\", 'simran@gmail.com', 'Gurgaon', 'BTech IT', 55000\n",
    "query = \"INSERT INTO STUDENTS (id, name, email, city, stream, fee) VALUES ('', '{}', '{}', '{}', '{}', {})\".format(name, email, city, stream, fee)\n",
    "print(query)"
   ]
  },
  {
   "cell_type": "markdown",
   "id": "c2bca97d",
   "metadata": {},
   "source": [
    "### 1. Inserting the Row into the Table"
   ]
  },
  {
   "cell_type": "code",
   "execution_count": 7,
   "id": "2b708d9d",
   "metadata": {},
   "outputs": [],
   "source": [
    "import pymysql\n",
    "\n",
    "conn = pymysql.connect(host=\"localhost\", user='root', password='', database='septclassdb')\n",
    "\n",
    "name, email, city, stream, fee = \"Simran Kaur\", 'simran@gmail.com', 'Gurgaon', 'BTech IT', 55000\n",
    "query = \"INSERT INTO STUDENTS (id, name, email, city, stream, fee) VALUES ('', '{}', '{}', '{}', '{}', {})\".format(name, email, city, stream, fee)\n",
    "\n",
    "cursor = conn.cursor()\n",
    "cursor.execute(query)\n",
    "\n",
    "conn.commit()\n",
    "\n",
    "cursor.close()\n",
    "conn.close()"
   ]
  },
  {
   "cell_type": "markdown",
   "id": "104c1054",
   "metadata": {},
   "source": [
    "### 2. Return Number of Rows Insereted to the Table"
   ]
  },
  {
   "cell_type": "code",
   "execution_count": 8,
   "id": "313473f6",
   "metadata": {},
   "outputs": [
    {
     "name": "stdout",
     "output_type": "stream",
     "text": [
      "1 data inserted.\n"
     ]
    }
   ],
   "source": [
    "import pymysql\n",
    "\n",
    "conn = pymysql.connect(host=\"localhost\", user='root', password='', database='septclassdb')\n",
    "\n",
    "name, email, city, stream, fee = \"Pardeep Sharma\", 'pardeep@gmail.com', 'Devigarh', 'BTech CSE', 100000\n",
    "query = \"INSERT INTO STUDENTS (id, name, email, city, stream, fee) VALUES ('', '{}', '{}', '{}', '{}', {})\".format(name, email, city, stream, fee)\n",
    "\n",
    "cursor = conn.cursor()\n",
    "cursor.execute(query)\n",
    "print(\"{} data inserted.\".format(cursor.rowcount))\n",
    "\n",
    "conn.commit()\n",
    "cursor.close()\n",
    "conn.close()"
   ]
  },
  {
   "cell_type": "markdown",
   "id": "8650dbb7",
   "metadata": {},
   "source": [
    "### 3. Fetching the Last Row ID of the Record"
   ]
  },
  {
   "cell_type": "code",
   "execution_count": 7,
   "id": "c40e945e",
   "metadata": {},
   "outputs": [
    {
     "name": "stdout",
     "output_type": "stream",
     "text": [
      "11 ID inserted.\n"
     ]
    }
   ],
   "source": [
    "import pymysql\n",
    "\n",
    "conn = pymysql.connect(host=\"localhost\", user='root', password='', database='septclassdb')\n",
    "\n",
    "name, email, city, stream, fee = \"Mandeep Singh\", 'mandeep@gmail.com', 'Chandigarh', 'BTech IT', 100000\n",
    "query = \"INSERT INTO STUDENTS (id, name, email, city, stream, fee) VALUES ('', '{}', '{}', '{}', '{}', {})\".format(name, email, city, stream, fee)\n",
    "\n",
    "cursor = conn.cursor()\n",
    "cursor.execute(query)\n",
    "print(\"{} ID inserted.\".format(cursor.lastrowid))\n",
    "\n",
    "conn.commit()\n",
    "cursor.close()\n",
    "conn.close()"
   ]
  },
  {
   "cell_type": "markdown",
   "id": "7f31d509",
   "metadata": {},
   "source": [
    "### 4. How to insert Multiple Records to the Table"
   ]
  },
  {
   "cell_type": "code",
   "execution_count": 24,
   "id": "13b17af3",
   "metadata": {},
   "outputs": [
    {
     "name": "stdout",
     "output_type": "stream",
     "text": [
      "Rows Created: 2.\n"
     ]
    }
   ],
   "source": [
    "import pymysql\n",
    "\n",
    "conn = pymysql.connect(host=\"localhost\", user='root', password='', database='septclassdb')\n",
    "query = \"INSERT INTO STUDENTS (id, name, email, city, stream, fee) VALUES (%s, %s, %s, %s, %s, %s)\"\n",
    "\n",
    "data = [\n",
    "        (13, 'Kishore Kumar', 'kishore@kishore.com', 'Mumbai', 'BPharma', 15000), \n",
    "        (14, 'Poonam Sharma', 'poonam@gmail.com', 'Mangalore', 'BPharma', 15000),\n",
    "       ]\n",
    "\n",
    "cursor = conn.cursor()\n",
    "cursor.executemany(query, data)\n",
    "print(\"Rows Created: {}.\".format(cursor.rowcount))\n",
    "\n",
    "conn.commit()\n",
    "cursor.close()\n",
    "conn.close()"
   ]
  },
  {
   "cell_type": "markdown",
   "id": "9dcc9390",
   "metadata": {},
   "source": [
    "### 5. Accessing the Table Data"
   ]
  },
  {
   "cell_type": "code",
   "execution_count": 17,
   "id": "98ddbb67",
   "metadata": {},
   "outputs": [
    {
     "name": "stdout",
     "output_type": "stream",
     "text": [
      "(1, 'Mohan Das', 'mohan@gmail.com', 'New Delhi', 'BTech IT', 100000)\n",
      "(2, 'Karam Chand', 'karam@gmail.com', 'Delhi', 'BTech CS', 100000)\n",
      "(3, 'Kishore Kumar', 'kishore@yahoo.com', 'Gurgaon', 'BTech EE', 130000)\n",
      "(4, 'Jatin Singh', 'jatin@rediffmail.com', 'Faridabad', 'BTech CS', 100000)\n",
      "(5, 'Mandeep Malhotra', 'mandeep@yahoo.com', 'Ludhiana', 'BTech E', 120000)\n",
      "(6, 'Sandeep Sharma', 'sandeep@gmail.com', 'Ambala', 'BTech Pharm', 150000)\n",
      "(7, 'Simran Kaur', 'simran@gmail.com', 'Gurgaon', 'BTech IT', 55000)\n",
      "(8, 'Simran Kaur', 'simran@gmail.com', 'Gurgaon', 'BTech IT', 55000)\n",
      "(9, 'Pardeep Sharma', 'pardeep@gmail.com', 'Devigarh', 'BTech CSE', 100000)\n",
      "(10, 'Mandeep Singh', 'mandeep@gmail.com', 'Chandigarh', 'BTech IT', 100000)\n"
     ]
    }
   ],
   "source": [
    "import pymysql\n",
    "\n",
    "conn = pymysql.connect(host=\"localhost\", user='root', password='', database='septclassdb')\n",
    "query = \"SELECT * FROM students;\"\n",
    "\n",
    "cursor = conn.cursor()\n",
    "cursor.execute(query)\n",
    "\n",
    "rows = cursor.fetchall()\n",
    "for row in rows:\n",
    "    print(row)\n",
    "\n",
    "cursor.close()\n",
    "conn.close()"
   ]
  },
  {
   "cell_type": "markdown",
   "id": "1c14a11a",
   "metadata": {},
   "source": [
    "### 6. Fetch Specific Column Data"
   ]
  },
  {
   "cell_type": "code",
   "execution_count": 18,
   "id": "937a4030",
   "metadata": {},
   "outputs": [
    {
     "name": "stdout",
     "output_type": "stream",
     "text": [
      "(1, 'Mohan Das', 'mohan@gmail.com', 100000)\n",
      "(2, 'Karam Chand', 'karam@gmail.com', 100000)\n",
      "(3, 'Kishore Kumar', 'kishore@yahoo.com', 130000)\n",
      "(4, 'Jatin Singh', 'jatin@rediffmail.com', 100000)\n",
      "(5, 'Mandeep Malhotra', 'mandeep@yahoo.com', 120000)\n",
      "(6, 'Sandeep Sharma', 'sandeep@gmail.com', 150000)\n",
      "(7, 'Simran Kaur', 'simran@gmail.com', 55000)\n",
      "(8, 'Simran Kaur', 'simran@gmail.com', 55000)\n",
      "(9, 'Pardeep Sharma', 'pardeep@gmail.com', 100000)\n",
      "(10, 'Mandeep Singh', 'mandeep@gmail.com', 100000)\n"
     ]
    }
   ],
   "source": [
    "import pymysql\n",
    "\n",
    "conn = pymysql.connect(host=\"localhost\", user='root', password='', database='septclassdb')\n",
    "query = \"SELECT id, name, email, fee FROM students;\"\n",
    "\n",
    "cursor = conn.cursor()\n",
    "cursor.execute(query)\n",
    "\n",
    "rows = cursor.fetchall()\n",
    "for row in rows:\n",
    "    print(row)\n",
    "\n",
    "cursor.close()\n",
    "conn.close()"
   ]
  },
  {
   "cell_type": "markdown",
   "id": "30c25bb9",
   "metadata": {},
   "source": [
    "### 7. Extracting the Specirfic User's Data"
   ]
  },
  {
   "cell_type": "code",
   "execution_count": 19,
   "id": "6dbc0ce1",
   "metadata": {},
   "outputs": [
    {
     "name": "stdout",
     "output_type": "stream",
     "text": [
      "(7, 'Simran Kaur', 'simran@gmail.com', 55000)\n"
     ]
    }
   ],
   "source": [
    "import pymysql\n",
    "\n",
    "conn = pymysql.connect(host=\"localhost\", user='root', password='', database='septclassdb')\n",
    "query = \"SELECT id, name, email, fee FROM students WHERE id=7;\"\n",
    "\n",
    "cursor = conn.cursor()\n",
    "cursor.execute(query)\n",
    "\n",
    "rows = cursor.fetchall()\n",
    "for row in rows:\n",
    "    print(row)\n",
    "\n",
    "cursor.close()\n",
    "conn.close()"
   ]
  },
  {
   "cell_type": "code",
   "execution_count": null,
   "id": "b4db5f98",
   "metadata": {},
   "outputs": [],
   "source": []
  },
  {
   "cell_type": "code",
   "execution_count": 20,
   "id": "00a64453",
   "metadata": {},
   "outputs": [
    {
     "name": "stdout",
     "output_type": "stream",
     "text": [
      "(1, 'Mohan Das', 'mohan@gmail.com', 100000)\n",
      "(2, 'Karam Chand', 'karam@gmail.com', 100000)\n",
      "(3, 'Kishore Kumar', 'kishore@yahoo.com', 130000)\n"
     ]
    }
   ],
   "source": [
    "import pymysql\n",
    "\n",
    "conn = pymysql.connect(host=\"localhost\", user='root', password='', database='septclassdb')\n",
    "query = \"SELECT id, name, email, fee FROM students LIMIT 3;\"\n",
    "\n",
    "cursor = conn.cursor()\n",
    "cursor.execute(query)\n",
    "\n",
    "rows = cursor.fetchall()\n",
    "for row in rows:\n",
    "    print(row)\n",
    "\n",
    "cursor.close()\n",
    "conn.close()"
   ]
  },
  {
   "cell_type": "code",
   "execution_count": null,
   "id": "9f92cd8b",
   "metadata": {},
   "outputs": [],
   "source": []
  },
  {
   "cell_type": "code",
   "execution_count": 22,
   "id": "3d0e288e",
   "metadata": {},
   "outputs": [
    {
     "name": "stdout",
     "output_type": "stream",
     "text": [
      "3\n"
     ]
    }
   ],
   "source": [
    "import pymysql\n",
    "\n",
    "conn = pymysql.connect(host=\"localhost\", user='root', password='', database='septclassdb')\n",
    "query = \"SELECT id, name, email, fee FROM students LIMIT 3;\"\n",
    "\n",
    "cursor = conn.cursor()\n",
    "cursor.execute(query)\n",
    "\n",
    "rows = cursor.fetchall()\n",
    "print(len(rows))\n",
    "\n",
    "cursor.close()\n",
    "conn.close()"
   ]
  },
  {
   "cell_type": "code",
   "execution_count": 24,
   "id": "af7309eb",
   "metadata": {},
   "outputs": [
    {
     "name": "stdout",
     "output_type": "stream",
     "text": [
      "10\n"
     ]
    }
   ],
   "source": [
    "import pymysql\n",
    "\n",
    "conn = pymysql.connect(host=\"localhost\", user='root', password='', database='septclassdb')\n",
    "query = \"SELECT * FROM students;\"\n",
    "\n",
    "cursor = conn.cursor()\n",
    "cursor.execute(query)\n",
    "\n",
    "rows = cursor.fetchall()\n",
    "print(len(rows))\n",
    "\n",
    "cursor.close()\n",
    "conn.close()"
   ]
  },
  {
   "cell_type": "markdown",
   "id": "ab87adae",
   "metadata": {},
   "source": [
    "```SELECT * FROM `students` ORDER BY `students`.`name` ASC```"
   ]
  },
  {
   "cell_type": "code",
   "execution_count": 25,
   "id": "b447009d",
   "metadata": {},
   "outputs": [
    {
     "name": "stdout",
     "output_type": "stream",
     "text": [
      "(4, 'Jatin Singh', 'jatin@rediffmail.com', 'Faridabad', 'BTech CS', 100000)\n",
      "(2, 'Karam Chand', 'karam@gmail.com', 'Delhi', 'BTech CS', 100000)\n",
      "(3, 'Kishore Kumar', 'kishore@yahoo.com', 'Gurgaon', 'BTech EE', 130000)\n",
      "(5, 'Mandeep Malhotra', 'mandeep@yahoo.com', 'Ludhiana', 'BTech E', 120000)\n",
      "(10, 'Mandeep Singh', 'mandeep@gmail.com', 'Chandigarh', 'BTech IT', 100000)\n",
      "(1, 'Mohan Das', 'mohan@gmail.com', 'New Delhi', 'BTech IT', 100000)\n",
      "(9, 'Pardeep Sharma', 'pardeep@gmail.com', 'Devigarh', 'BTech CSE', 100000)\n",
      "(6, 'Sandeep Sharma', 'sandeep@gmail.com', 'Ambala', 'BTech Pharm', 150000)\n",
      "(7, 'Simran Kaur', 'simran@gmail.com', 'Gurgaon', 'BTech IT', 55000)\n",
      "(8, 'Simran Kaur', 'simran@gmail.com', 'Gurgaon', 'BTech IT', 55000)\n"
     ]
    }
   ],
   "source": [
    "import pymysql\n",
    "\n",
    "conn = pymysql.connect(host=\"localhost\", user='root', password='', database='septclassdb')\n",
    "query = \"SELECT * FROM students ORDER BY name ASC;\"\n",
    "\n",
    "cursor = conn.cursor()\n",
    "cursor.execute(query)\n",
    "\n",
    "rows = cursor.fetchall()\n",
    "for row in rows:\n",
    "    print(row)\n",
    "\n",
    "cursor.close()\n",
    "conn.close()"
   ]
  },
  {
   "cell_type": "code",
   "execution_count": null,
   "id": "04910e79",
   "metadata": {},
   "outputs": [],
   "source": []
  },
  {
   "cell_type": "code",
   "execution_count": null,
   "id": "02ce7bec",
   "metadata": {},
   "outputs": [],
   "source": []
  },
  {
   "cell_type": "markdown",
   "id": "74a67d34",
   "metadata": {},
   "source": [
    "```\n",
    "UPDATE table_name\n",
    "SET column_name = 'Value to Update'\n",
    "WHERE id=7;\n",
    "```"
   ]
  },
  {
   "cell_type": "code",
   "execution_count": 26,
   "id": "87e4b90e",
   "metadata": {},
   "outputs": [],
   "source": [
    "import pymysql\n",
    "\n",
    "conn = pymysql.connect(host=\"localhost\", user='root', password='', database='septclassdb')\n",
    "query = \"UPDATE students SET name='Preet Kamal' WHERE id=7;\"\n",
    "\n",
    "cursor = conn.cursor()\n",
    "cursor.execute(query)\n",
    "\n",
    "conn.commit()\n",
    "cursor.close()\n",
    "conn.close()"
   ]
  },
  {
   "cell_type": "code",
   "execution_count": null,
   "id": "c42d4509",
   "metadata": {},
   "outputs": [],
   "source": []
  },
  {
   "cell_type": "markdown",
   "id": "c68ef079",
   "metadata": {},
   "source": [
    "```DELETE FROM `students` WHERE `students`.`id` = 10```"
   ]
  },
  {
   "cell_type": "code",
   "execution_count": 27,
   "id": "1fed7c93",
   "metadata": {},
   "outputs": [],
   "source": [
    "import pymysql\n",
    "\n",
    "conn = pymysql.connect(host=\"localhost\", user='root', password='', database='septclassdb')\n",
    "query = \"DELETE FROM students WHERE id=10;\"\n",
    "\n",
    "cursor = conn.cursor()\n",
    "cursor.execute(query)\n",
    "\n",
    "conn.commit()\n",
    "cursor.close()\n",
    "conn.close()"
   ]
  },
  {
   "cell_type": "markdown",
   "id": "1ffc3b99",
   "metadata": {},
   "source": [
    "```query = \"DELETE FROM students WHERE fee<100000;\"```"
   ]
  },
  {
   "cell_type": "code",
   "execution_count": 28,
   "id": "66119d7e",
   "metadata": {},
   "outputs": [],
   "source": [
    "import pymysql\n",
    "\n",
    "conn = pymysql.connect(host=\"localhost\", user='root', password='', database='septclassdb')\n",
    "query = \"DELETE FROM students WHERE fee<100000;\"\n",
    "\n",
    "cursor = conn.cursor()\n",
    "cursor.execute(query)\n",
    "\n",
    "conn.commit()\n",
    "cursor.close()\n",
    "conn.close()"
   ]
  },
  {
   "cell_type": "code",
   "execution_count": null,
   "id": "61d25d66",
   "metadata": {},
   "outputs": [],
   "source": []
  },
  {
   "cell_type": "markdown",
   "id": "e24657af",
   "metadata": {},
   "source": [
    "Removing Table:\n",
    "    ```sql\n",
    "    DROP TABLE IF EXISTS table_name;\n",
    "    ```"
   ]
  },
  {
   "cell_type": "code",
   "execution_count": null,
   "id": "904f91a4",
   "metadata": {},
   "outputs": [],
   "source": []
  },
  {
   "cell_type": "code",
   "execution_count": null,
   "id": "69a18770",
   "metadata": {},
   "outputs": [],
   "source": []
  },
  {
   "cell_type": "code",
   "execution_count": 29,
   "id": "d089591f",
   "metadata": {},
   "outputs": [
    {
     "name": "stdout",
     "output_type": "stream",
     "text": [
      "((1, 'Mohan Das', 'mohan@gmail.com', 'New Delhi', 'BTech IT', 100000), (2, 'Karam Chand', 'karam@gmail.com', 'Delhi', 'BTech CS', 100000), (3, 'Kishore Kumar', 'kishore@yahoo.com', 'Gurgaon', 'BTech EE', 130000))\n"
     ]
    }
   ],
   "source": [
    "import pymysql\n",
    "\n",
    "conn = pymysql.connect(host=\"localhost\", user='root', password='', database='septclassdb')\n",
    "query = \"SELECT * FROM students LIMIT %s;\"\n",
    "\n",
    "cursor = conn.cursor()\n",
    "cursor.execute(query, 3)\n",
    "\n",
    "result = cursor.fetchall()\n",
    "print(result)\n",
    "\n",
    "conn.commit()\n",
    "cursor.close()\n",
    "conn.close()"
   ]
  },
  {
   "cell_type": "code",
   "execution_count": null,
   "id": "034fd70d",
   "metadata": {},
   "outputs": [],
   "source": []
  }
 ],
 "metadata": {
  "kernelspec": {
   "display_name": "Python 3 (ipykernel)",
   "language": "python",
   "name": "python3"
  },
  "language_info": {
   "codemirror_mode": {
    "name": "ipython",
    "version": 3
   },
   "file_extension": ".py",
   "mimetype": "text/x-python",
   "name": "python",
   "nbconvert_exporter": "python",
   "pygments_lexer": "ipython3",
   "version": "3.8.7"
  }
 },
 "nbformat": 4,
 "nbformat_minor": 5
}
